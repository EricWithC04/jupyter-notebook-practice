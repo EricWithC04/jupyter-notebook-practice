{
 "cells": [
  {
   "cell_type": "markdown",
   "metadata": {},
   "source": [
    "# Primer Ejercicio: \n",
    "En el primer ejercicio recibiremos 2 cadenas y el objetivo es crear un algoritmo que pueda ordenarlos lexicográficamente."
   ]
  },
  {
   "cell_type": "code",
   "execution_count": 26,
   "metadata": {},
   "outputs": [],
   "source": [
    "def comparar_cadenas_lexicograficas(cadena1, cadena2):\n",
    "    \n",
    "    # Con el metodo isalpha, comprobamos que cada uno de los caracteres sea una letra\n",
    "    letras1 = [c.isalpha() for c in cadena1]\n",
    "    letras2 = [c.isalpha() for c in cadena2]\n",
    "    \n",
    "    # Validaciones, tipo de dato, longitud, que los caracteres sean exclusivamente letras, que estén en mayusculas y ambas cadenas tengan la misma longitud\n",
    "    if (type(cadena1) != str or type(cadena2) != str):\n",
    "        raise TypeError(\"Ambos parametros deben ser cadenas!\")\n",
    "    \n",
    "    if (len(cadena1) == 0 or len(cadena2) == 0):\n",
    "        raise ValueError(\"Las cadenas no pueden estar vacias!\")\n",
    "    \n",
    "    if (not all(letras1) or not all(letras2)):\n",
    "        raise ValueError(\"Todos los caracteres deben ser letras\")\n",
    "    \n",
    "    if (cadena1 != cadena1.upper() or cadena2 != cadena2.upper()):\n",
    "        raise ValueError(\"Ambas cadenas deben contar solo con letras mayusculas!\")\n",
    "    \n",
    "    if (len(cadena1) != len(cadena2)):\n",
    "        raise ValueError(\"Ambas cadenas deben tener la misma longitud\")\n",
    "    \n",
    "    # Obtenemos el largo de las cadenas\n",
    "    longitud_cadena = len(cadena1)\n",
    "    \n",
    "    # Recorremos y comparamos cada uno de los caracteres de ambas cadenas\n",
    "    for i in range(longitud_cadena):\n",
    "        if (cadena1[i] < cadena2[i]):\n",
    "            return \"-1\"\n",
    "        elif (cadena2[i] < cadena1[i]):\n",
    "            return \"1\"\n",
    "    \n",
    "    # Si la función no retorno nada dentro del for, significa que ambas cadenas son iguales, retornamos \"0\"\n",
    "    return \"0\""
   ]
  },
  {
   "cell_type": "markdown",
   "metadata": {},
   "source": [
    "Este algoritmo devuelve `1` si la primera cadena tiene un valor mayor, `-1` si la segunda tiene un valor mayor y `0` si ambas son iguales."
   ]
  },
  {
   "cell_type": "markdown",
   "metadata": {},
   "source": [
    "Entre las distintas validaciones las más importantes son las siguientes:  \n",
    "Validar que todos los caracteres de ambas cadenas sean letras:\n",
    "```python\n",
    "    letras1 = [c.isalpha() for c in cadena1]\n",
    "    letras2 = [c.isalpha() for c in cadena2]\n",
    "\n",
    "    if (not all(letras1) or not all(letras2))\n",
    "```\n",
    "\n",
    "Ambas cadenas deben tener la misma longitud:\n",
    "```python\n",
    "    if (len(cadena1) != len(cadena2))\n",
    "```\n",
    "\n",
    "Ambas cadenas pueden tener solo letras mayúsculas:\n",
    "```python\n",
    "    if (cadena1 != cadena1.upper() or cadena2 != cadena2.upper())\n",
    "```\n",
    "\n",
    "Si los parametros pasan las validaciones, pasamos al algoritmo. Lo que hace este es ir comparando cada caracter de la cadena con su equivalente en la otra cadena, una vez encuentre una diferencia retorna un valor dependiendo de cuál tiene un mayor valor, en caso de no haber diferencia retorna `0`:\n",
    "```python\n",
    "    for i in range(longitud_cadena):\n",
    "        if (cadena1[i] < cadena2[i]):\n",
    "            return \"-1\"\n",
    "        elif (cadena2[i] < cadena1[i]):\n",
    "            return \"1\"\n",
    "    return \"0\"\n",
    "```\n",
    "\n",
    "Pruebas:"
   ]
  },
  {
   "cell_type": "code",
   "execution_count": 27,
   "metadata": {},
   "outputs": [
    {
     "name": "stdout",
     "output_type": "stream",
     "text": [
      "1\n",
      "0\n",
      "-1\n"
     ]
    }
   ],
   "source": [
    "print(comparar_cadenas_lexicograficas(\"HOLA\", \"ABCD\"))\n",
    "print(comparar_cadenas_lexicograficas(\"AAA\", \"AAA\"))\n",
    "print(comparar_cadenas_lexicograficas(\"AZA\", \"ZAZ\"))"
   ]
  },
  {
   "cell_type": "markdown",
   "metadata": {},
   "source": [
    "# Ejercicios de Pandas\n",
    "Para la realización de los ejercicios de Pandas primero hay que instalarlo\n",
    "```bash\n",
    "    pip install pandas\n",
    "```\n",
    "Creamos un nuevo archivo e importamos tanto pandas como el archivo que vamos a leer:"
   ]
  },
  {
   "cell_type": "code",
   "execution_count": 28,
   "metadata": {},
   "outputs": [],
   "source": [
    "from ventas_mensuales import ventas_mensuales as ventas_m\n",
    "import pandas as pd"
   ]
  },
  {
   "cell_type": "markdown",
   "metadata": {},
   "source": [
    "Creamos el DataFrame con el archivo:"
   ]
  },
  {
   "cell_type": "code",
   "execution_count": 29,
   "metadata": {},
   "outputs": [],
   "source": [
    "v_m = pd.DataFrame(ventas_m)"
   ]
  },
  {
   "cell_type": "markdown",
   "metadata": {},
   "source": [
    "Vamos a realizar 4 funciones que hagan lo siguiente: agrupar los registros en trimestres, filtrar aquellos meses donde las ventas superen los 20.000, encontrar el mes con el mayor volumen de ventas y sacar el promedio de ventas:\n",
    "- Agrupar en trimestres"
   ]
  },
  {
   "cell_type": "code",
   "execution_count": 30,
   "metadata": {},
   "outputs": [],
   "source": [
    "def ventas_por_trimestre(ventas):\n",
    "    trimestres = {}\n",
    "    \n",
    "    for i in range(len(ventas) // 3):\n",
    "        trimestres[f\"Trimestre {i + 1}\"] = { \"Meses\": [], \"Total\": 0 }\n",
    "    \n",
    "    for index, t in enumerate(trimestres, start=0):\n",
    "        for i in range((index*3), (index*3+3)):\n",
    "            trimestres[t][\"Meses\"].append(ventas[i])\n",
    "            trimestres[t][\"Total\"] += ventas[i][\"total_ventas\"]\n",
    "\n",
    "    return trimestres"
   ]
  },
  {
   "cell_type": "markdown",
   "metadata": {},
   "source": [
    "- Filtrar aquellos que tengan más de 20.000 ventas"
   ]
  },
  {
   "cell_type": "code",
   "execution_count": 31,
   "metadata": {},
   "outputs": [],
   "source": [
    "def ventas_20000(ventas):\n",
    "    ventas_superior_20000 = [v for v in ventas if v[\"total_ventas\"] > 20000]\n",
    "\n",
    "    print(ventas_superior_20000)\n",
    "    \n",
    "    return ventas_superior_20000"
   ]
  },
  {
   "cell_type": "markdown",
   "metadata": {},
   "source": [
    "- Mayor volumen de ventas"
   ]
  },
  {
   "cell_type": "code",
   "execution_count": 32,
   "metadata": {},
   "outputs": [],
   "source": [
    "def mayor_volumen_ventas(ventas):\n",
    "    return ventas.max()"
   ]
  },
  {
   "cell_type": "markdown",
   "metadata": {},
   "source": [
    "- Promedio de ventas"
   ]
  },
  {
   "cell_type": "code",
   "execution_count": 33,
   "metadata": {},
   "outputs": [],
   "source": [
    "def promedio_ventas(ventas):\n",
    "    return sum(ventas[\"total_ventas\"]) / len(ventas)"
   ]
  },
  {
   "cell_type": "markdown",
   "metadata": {},
   "source": [
    "Pruebas:"
   ]
  },
  {
   "cell_type": "code",
   "execution_count": 34,
   "metadata": {},
   "outputs": [
    {
     "name": "stdout",
     "output_type": "stream",
     "text": [
      "Ventas Agrupadas: {'Trimestre 1': {'Meses': [{'mes': 'Enero', 'total_ventas': 15000, 'año': 2023}, {'mes': 'Febrero', 'total_ventas': 18000, 'año': 2023}, {'mes': 'Marzo', 'total_ventas': 22000, 'año': 2023}], 'Total': 55000}, 'Trimestre 2': {'Meses': [{'mes': 'Abril', 'total_ventas': 19000, 'año': 2023}, {'mes': 'Mayo', 'total_ventas': 25000, 'año': 2023}, {'mes': 'Junio', 'total_ventas': 28000, 'año': 2023}], 'Total': 72000}, 'Trimestre 3': {'Meses': [{'mes': 'Julio', 'total_ventas': 32000, 'año': 2023}, {'mes': 'Agosto', 'total_ventas': 30000, 'año': 2023}, {'mes': 'Septiembre', 'total_ventas': 28000, 'año': 2023}], 'Total': 90000}, 'Trimestre 4': {'Meses': [{'mes': 'Octubre', 'total_ventas': 31000, 'año': 2023}, {'mes': 'Noviembre', 'total_ventas': 33000, 'año': 2023}, {'mes': 'Diciembre', 'total_ventas': 36000, 'año': 2023}], 'Total': 100000}, 'Trimestre 5': {'Meses': [{'mes': 'Enero 2', 'total_ventas': 37000, 'año': 2024}, {'mes': 'Febrero 2', 'total_ventas': 38000, 'año': 2024}, {'mes': 'Marzo 2', 'total_ventas': 42000, 'año': 2024}], 'Total': 117000}, 'Trimestre 6': {'Meses': [{'mes': 'Abril 2', 'total_ventas': 39000, 'año': 2024}, {'mes': 'Mayo 2', 'total_ventas': 45000, 'año': 2024}, {'mes': 'Junio 2', 'total_ventas': 48000, 'año': 2024}], 'Total': 132000}, 'Trimestre 7': {'Meses': [{'mes': 'Julio 2', 'total_ventas': 52000, 'año': 2024}, {'mes': 'Agosto 2', 'total_ventas': 50000, 'año': 2024}, {'mes': 'Septiembre 2', 'total_ventas': 48000, 'año': 2024}], 'Total': 150000}, 'Trimestre 8': {'Meses': [{'mes': 'Octubre 2', 'total_ventas': 51000, 'año': 2024}, {'mes': 'Noviembre 2', 'total_ventas': 55000, 'año': 2024}, {'mes': 'Diciembre 2', 'total_ventas': 58000, 'año': 2024}], 'Total': 164000}}\n",
      "[{'mes': 'Marzo', 'total_ventas': 22000, 'año': 2023}, {'mes': 'Mayo', 'total_ventas': 25000, 'año': 2023}, {'mes': 'Junio', 'total_ventas': 28000, 'año': 2023}, {'mes': 'Julio', 'total_ventas': 32000, 'año': 2023}, {'mes': 'Agosto', 'total_ventas': 30000, 'año': 2023}, {'mes': 'Septiembre', 'total_ventas': 28000, 'año': 2023}, {'mes': 'Octubre', 'total_ventas': 31000, 'año': 2023}, {'mes': 'Noviembre', 'total_ventas': 33000, 'año': 2023}, {'mes': 'Diciembre', 'total_ventas': 36000, 'año': 2023}, {'mes': 'Enero 2', 'total_ventas': 37000, 'año': 2024}, {'mes': 'Febrero 2', 'total_ventas': 38000, 'año': 2024}, {'mes': 'Marzo 2', 'total_ventas': 42000, 'año': 2024}, {'mes': 'Abril 2', 'total_ventas': 39000, 'año': 2024}, {'mes': 'Mayo 2', 'total_ventas': 45000, 'año': 2024}, {'mes': 'Junio 2', 'total_ventas': 48000, 'año': 2024}, {'mes': 'Julio 2', 'total_ventas': 52000, 'año': 2024}, {'mes': 'Agosto 2', 'total_ventas': 50000, 'año': 2024}, {'mes': 'Septiembre 2', 'total_ventas': 48000, 'año': 2024}, {'mes': 'Octubre 2', 'total_ventas': 51000, 'año': 2024}, {'mes': 'Noviembre 2', 'total_ventas': 55000, 'año': 2024}, {'mes': 'Diciembre 2', 'total_ventas': 58000, 'año': 2024}]\n",
      "Meses superiores a 20.000: [{'mes': 'Marzo', 'total_ventas': 22000, 'año': 2023}, {'mes': 'Mayo', 'total_ventas': 25000, 'año': 2023}, {'mes': 'Junio', 'total_ventas': 28000, 'año': 2023}, {'mes': 'Julio', 'total_ventas': 32000, 'año': 2023}, {'mes': 'Agosto', 'total_ventas': 30000, 'año': 2023}, {'mes': 'Septiembre', 'total_ventas': 28000, 'año': 2023}, {'mes': 'Octubre', 'total_ventas': 31000, 'año': 2023}, {'mes': 'Noviembre', 'total_ventas': 33000, 'año': 2023}, {'mes': 'Diciembre', 'total_ventas': 36000, 'año': 2023}, {'mes': 'Enero 2', 'total_ventas': 37000, 'año': 2024}, {'mes': 'Febrero 2', 'total_ventas': 38000, 'año': 2024}, {'mes': 'Marzo 2', 'total_ventas': 42000, 'año': 2024}, {'mes': 'Abril 2', 'total_ventas': 39000, 'año': 2024}, {'mes': 'Mayo 2', 'total_ventas': 45000, 'año': 2024}, {'mes': 'Junio 2', 'total_ventas': 48000, 'año': 2024}, {'mes': 'Julio 2', 'total_ventas': 52000, 'año': 2024}, {'mes': 'Agosto 2', 'total_ventas': 50000, 'año': 2024}, {'mes': 'Septiembre 2', 'total_ventas': 48000, 'año': 2024}, {'mes': 'Octubre 2', 'total_ventas': 51000, 'año': 2024}, {'mes': 'Noviembre 2', 'total_ventas': 55000, 'año': 2024}, {'mes': 'Diciembre 2', 'total_ventas': 58000, 'año': 2024}]\n",
      "Mayor volumen: mes             Septiembre 2\n",
      "total_ventas           58000\n",
      "año                     2024\n",
      "dtype: object\n",
      "Promedio de ventas: 36666.666666666664\n"
     ]
    }
   ],
   "source": [
    "print(\"Ventas Agrupadas:\", ventas_por_trimestre(ventas_m))\n",
    "print(\"Meses superiores a 20.000:\", ventas_20000(ventas_m))\n",
    "print(\"Mayor volumen:\", mayor_volumen_ventas(v_m))\n",
    "print(\"Promedio de ventas:\", promedio_ventas(v_m))"
   ]
  },
  {
   "cell_type": "markdown",
   "metadata": {},
   "source": [
    "Funcion que devuelve DataFrame con solo 2 columnas:"
   ]
  },
  {
   "cell_type": "code",
   "execution_count": 35,
   "metadata": {},
   "outputs": [],
   "source": [
    "def retorno_dataframe():\n",
    "    df = pd.DataFrame(ventas_m)\n",
    "    \n",
    "    return df.filter(items=[\"mes\", \"total_ventas\"])"
   ]
  },
  {
   "cell_type": "markdown",
   "metadata": {},
   "source": [
    "# Ejercicio de Gráficos con Matplotlib\n",
    "Primero importamos lo que necesitamos de matplotlib junto con el DataFrame"
   ]
  },
  {
   "cell_type": "code",
   "execution_count": 36,
   "metadata": {},
   "outputs": [],
   "source": [
    "import matplotlib.pyplot as plt\n",
    "\n",
    "v_m2 = retorno_dataframe()"
   ]
  },
  {
   "cell_type": "markdown",
   "metadata": {},
   "source": [
    "Configuramos el gráfico con los valores del DataFrame"
   ]
  },
  {
   "cell_type": "code",
   "execution_count": 37,
   "metadata": {},
   "outputs": [
    {
     "data": {
      "image/png": "[encoded data removed]",
      "text/plain": [
       "<Figure size 640x480 with 1 Axes>"
      ]
     },
     "metadata": {},
     "output_type": "display_data"
    }
   ],
   "source": [
    "plt.plot(v_m[\"mes\"], v_m[\"total_ventas\"], color=\"blue\")\n",
    "\n",
    "plt.title(\"Tendencia de ventas\")\n",
    "plt.xlabel(\"Meses\")\n",
    "plt.ylabel(\"Ventas\")\n",
    "\n",
    "plt.xticks(rotation=90) \n",
    "\n",
    "plt.grid(True)\n",
    "\n",
    "plt.show()"
   ]
  }
 ],
 "metadata": {
  "kernelspec": {
   "display_name": "venv",
   "language": "python",
   "name": "python3"
  },
  "language_info": {
   "codemirror_mode": {
    "name": "ipython",
    "version": 3
   },
   "file_extension": ".py",
   "mimetype": "text/x-python",
   "name": "python",
   "nbconvert_exporter": "python",
   "pygments_lexer": "ipython3",
   "version": "3.12.2"
  }
 },
 "nbformat": 4,
 "nbformat_minor": 2
}
